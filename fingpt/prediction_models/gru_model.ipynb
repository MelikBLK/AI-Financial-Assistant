{
 "cells": [
  {
   "cell_type": "markdown",
   "metadata": {},
   "source": [
    "All Imports"
   ]
  },
  {
   "cell_type": "code",
   "execution_count": 19,
   "metadata": {},
   "outputs": [],
   "source": [
    "import yfinance as yf\n",
    "import pandas as pd\n",
    "import numpy as np\n",
    "from sklearn.preprocessing import MinMaxScaler\n",
    "from sklearn.model_selection import train_test_split\n",
    "from sklearn.metrics import mean_squared_error\n",
    "from tensorflow.keras.models import Sequential\n",
    "import tensorflow.keras.models as models\n",
    "from tensorflow.keras.callbacks import EarlyStopping\n",
    "from tensorflow.keras.layers import Dense, SimpleRNN, LSTM, GRU, Bidirectional, Reshape, Dropout\n",
    "import matplotlib.pyplot as plt\n",
    "import mlflow"
   ]
  },
  {
   "cell_type": "markdown",
   "metadata": {},
   "source": [
    "Load both CSV files into pandas dataframes"
   ]
  },
  {
   "cell_type": "code",
   "execution_count": 4,
   "metadata": {},
   "outputs": [
    {
     "name": "stderr",
     "output_type": "stream",
     "text": [
      "/tmp/ipykernel_11638/3057472841.py:1: DtypeWarning: Columns (8,9,10,11,12,15,17,18,20,21,23,24,25,26,27,28) have mixed types. Specify dtype option on import or set low_memory=False.\n",
      "  df1 = pd.read_csv('aapl_2016_2020.csv')\n",
      "/tmp/ipykernel_11638/3057472841.py:2: DtypeWarning: Columns (15,17,18,20,21,23) have mixed types. Specify dtype option on import or set low_memory=False.\n",
      "  df2 = pd.read_csv('aapl_2021_2023.csv')\n"
     ]
    }
   ],
   "source": [
    "df1 = pd.read_csv('aapl_2016_2020.csv')\n",
    "df2 = pd.read_csv('aapl_2021_2023.csv')"
   ]
  },
  {
   "cell_type": "markdown",
   "metadata": {},
   "source": [
    "Concatenate the dataframes along rows (assuming they have the same columns)"
   ]
  },
  {
   "cell_type": "code",
   "execution_count": 5,
   "metadata": {},
   "outputs": [],
   "source": [
    "raw_df = pd.concat([df1, df2], ignore_index=True)"
   ]
  },
  {
   "cell_type": "markdown",
   "metadata": {},
   "source": [
    "Save the merged dataframe to a new CSV file"
   ]
  },
  {
   "cell_type": "code",
   "execution_count": 6,
   "metadata": {},
   "outputs": [],
   "source": [
    "raw_df.to_csv('merged.csv', index=False)"
   ]
  },
  {
   "cell_type": "code",
   "execution_count": 2,
   "metadata": {},
   "outputs": [
    {
     "name": "stderr",
     "output_type": "stream",
     "text": [
      "/tmp/ipykernel_28995/596435398.py:1: DtypeWarning: Columns (8,9,10,11,12,15,17,18,20,21,23,24,25,26,27,28) have mixed types. Specify dtype option on import or set low_memory=False.\n",
      "  raw_df = pd.read_csv('merged.csv')\n"
     ]
    }
   ],
   "source": [
    "raw_df = pd.read_csv('merged.csv')"
   ]
  },
  {
   "cell_type": "markdown",
   "metadata": {},
   "source": [
    "Get rid of [ ] in the column name"
   ]
  },
  {
   "cell_type": "code",
   "execution_count": 3,
   "metadata": {},
   "outputs": [],
   "source": [
    "columns = raw_df.columns\n",
    "columns = [s.replace('[', '') for s in columns]\n",
    "columns = [s.replace(']', '') for s in columns]\n",
    "columns = [s.replace(' ', '') for s in columns]\n",
    "\n",
    "raw_df.columns = columns"
   ]
  },
  {
   "cell_type": "markdown",
   "metadata": {},
   "source": [
    "Some columns will not be handled well when converting raw numeric strings to Python's integer and float datatypes. \n",
    "\n",
    "Therefore, we will treat these features separately and join them again later."
   ]
  },
  {
   "cell_type": "code",
   "execution_count": 4,
   "metadata": {},
   "outputs": [
    {
     "data": {
      "text/plain": [
       "['QUOTE_UNIXTIME',\n",
       " 'UNDERLYING_LAST',\n",
       " 'EXPIRE_UNIX',\n",
       " 'DTE',\n",
       " 'C_DELTA',\n",
       " 'C_GAMMA',\n",
       " 'C_VEGA',\n",
       " 'C_THETA',\n",
       " 'C_RHO',\n",
       " 'C_IV',\n",
       " 'C_VOLUME',\n",
       " 'C_LAST',\n",
       " 'C_BID',\n",
       " 'C_ASK',\n",
       " 'STRIKE',\n",
       " 'P_BID',\n",
       " 'P_ASK',\n",
       " 'P_LAST',\n",
       " 'P_DELTA',\n",
       " 'P_GAMMA',\n",
       " 'P_VEGA',\n",
       " 'P_THETA',\n",
       " 'P_RHO',\n",
       " 'P_IV',\n",
       " 'P_VOLUME',\n",
       " 'STRIKE_DISTANCE',\n",
       " 'STRIKE_DISTANCE_PCT']"
      ]
     },
     "execution_count": 4,
     "metadata": {},
     "output_type": "execute_result"
    }
   ],
   "source": [
    "date_columns = ['QUOTE_READTIME','QUOTE_DATE','EXPIRE_DATE','QUOTE_TIME_HOURS', 'C_SIZE', 'P_SIZE']\n",
    "numeric_cols = raw_df.columns.to_list()\n",
    "numeric_cols.remove('QUOTE_READTIME')\n",
    "numeric_cols.remove('QUOTE_DATE')\n",
    "numeric_cols.remove('EXPIRE_DATE')\n",
    "numeric_cols.remove('QUOTE_TIME_HOURS')\n",
    "numeric_cols.remove('C_SIZE')\n",
    "numeric_cols.remove('P_SIZE')\n",
    "\n",
    "numeric_cols"
   ]
  },
  {
   "cell_type": "code",
   "execution_count": 5,
   "metadata": {},
   "outputs": [],
   "source": [
    "numeric_df = raw_df.drop(columns=date_columns)\n",
    "\n",
    "for i in numeric_cols:\n",
    "    numeric_df[i] = pd.to_numeric(numeric_df[i], errors='coerce')"
   ]
  },
  {
   "cell_type": "markdown",
   "metadata": {},
   "source": [
    "Now we drop all rows that contains an element that is NaN"
   ]
  },
  {
   "cell_type": "code",
   "execution_count": 6,
   "metadata": {},
   "outputs": [],
   "source": [
    "numeric_df = numeric_df.dropna()"
   ]
  },
  {
   "cell_type": "markdown",
   "metadata": {},
   "source": [
    "Choosing our Features X and Target Y"
   ]
  },
  {
   "cell_type": "code",
   "execution_count": 7,
   "metadata": {},
   "outputs": [],
   "source": [
    "X = numeric_df.drop(columns=['P_LAST', 'C_LAST'])\n",
    "y = numeric_df[['P_LAST', 'C_LAST']]"
   ]
  },
  {
   "cell_type": "markdown",
   "metadata": {},
   "source": [
    "Scale transform the data"
   ]
  },
  {
   "cell_type": "code",
   "execution_count": 8,
   "metadata": {},
   "outputs": [],
   "source": [
    "scaler = MinMaxScaler(feature_range=(0.1, 1))\n",
    "X, y = scaler.fit_transform(X), scaler.fit_transform(y)"
   ]
  },
  {
   "cell_type": "markdown",
   "metadata": {},
   "source": [
    "Convert them into matrices"
   ]
  },
  {
   "cell_type": "code",
   "execution_count": 9,
   "metadata": {},
   "outputs": [],
   "source": [
    "X, y = np.array(X), np.array(y)"
   ]
  },
  {
   "cell_type": "markdown",
   "metadata": {},
   "source": [
    "Check Dimensions of the features and targets"
   ]
  },
  {
   "cell_type": "code",
   "execution_count": 14,
   "metadata": {},
   "outputs": [
    {
     "name": "stdout",
     "output_type": "stream",
     "text": [
      "(872082, 25) (872082, 2)\n"
     ]
    }
   ],
   "source": [
    "print(X.shape, y.shape)"
   ]
  },
  {
   "cell_type": "markdown",
   "metadata": {},
   "source": [
    "Split data into train and test (80%:20%)"
   ]
  },
  {
   "cell_type": "code",
   "execution_count": 10,
   "metadata": {},
   "outputs": [],
   "source": [
    "X_train, X_test, y_train, y_test = train_test_split(X, y, test_size=0.2, random_state=2)"
   ]
  },
  {
   "cell_type": "markdown",
   "metadata": {},
   "source": [
    "Start our MLflow run"
   ]
  },
  {
   "cell_type": "code",
   "execution_count": 13,
   "metadata": {},
   "outputs": [
    {
     "data": {
      "text/plain": [
       "<Experiment: artifact_location='file:///home/nour/myproject/AI-Financial-Assistant/mlruns/122129908575878111', creation_time=1713521700178, experiment_id='122129908575878111', last_update_time=1713521700178, lifecycle_stage='active', name='options_GRU_prediction', tags={}>"
      ]
     },
     "execution_count": 13,
     "metadata": {},
     "output_type": "execute_result"
    }
   ],
   "source": [
    "mlflow.set_experiment(\"options_GRU_prediction\")"
   ]
  },
  {
   "cell_type": "markdown",
   "metadata": {},
   "source": [
    "Build our model and run it with MLflow"
   ]
  },
  {
   "cell_type": "code",
   "execution_count": 20,
   "metadata": {},
   "outputs": [
    {
     "name": "stdout",
     "output_type": "stream",
     "text": [
      "Epoch 1/20\n"
     ]
    },
    {
     "name": "stderr",
     "output_type": "stream",
     "text": [
      "/home/nour/anaconda3/envs/ISS/lib/python3.11/site-packages/keras/src/layers/core/dense.py:88: UserWarning: Do not pass an `input_shape`/`input_dim` argument to a layer. When using Sequential models, prefer using an `Input(shape)` object as the first layer in the model instead.\n",
      "  super().__init__(activity_regularizer=activity_regularizer, **kwargs)\n"
     ]
    },
    {
     "name": "stdout",
     "output_type": "stream",
     "text": [
      "\u001b[1m21803/21803\u001b[0m \u001b[32m━━━━━━━━━━━━━━━━━━━━\u001b[0m\u001b[37m\u001b[0m \u001b[1m109s\u001b[0m 5ms/step - loss: 0.0011 - val_loss: 1.6511e-04\n",
      "Epoch 2/20\n",
      "\u001b[1m21803/21803\u001b[0m \u001b[32m━━━━━━━━━━━━━━━━━━━━\u001b[0m\u001b[37m\u001b[0m \u001b[1m101s\u001b[0m 5ms/step - loss: 1.7711e-04 - val_loss: 8.2618e-04\n",
      "Epoch 3/20\n",
      "\u001b[1m21803/21803\u001b[0m \u001b[32m━━━━━━━━━━━━━━━━━━━━\u001b[0m\u001b[37m\u001b[0m \u001b[1m102s\u001b[0m 5ms/step - loss: 1.7744e-04 - val_loss: 2.0379e-04\n",
      "Epoch 4/20\n",
      "\u001b[1m21803/21803\u001b[0m \u001b[32m━━━━━━━━━━━━━━━━━━━━\u001b[0m\u001b[37m\u001b[0m \u001b[1m101s\u001b[0m 5ms/step - loss: 1.7129e-04 - val_loss: 1.6818e-04\n",
      "Epoch 5/20\n",
      "\u001b[1m21803/21803\u001b[0m \u001b[32m━━━━━━━━━━━━━━━━━━━━\u001b[0m\u001b[37m\u001b[0m \u001b[1m103s\u001b[0m 5ms/step - loss: 1.6504e-04 - val_loss: 1.5992e-04\n",
      "Epoch 6/20\n",
      "\u001b[1m21803/21803\u001b[0m \u001b[32m━━━━━━━━━━━━━━━━━━━━\u001b[0m\u001b[37m\u001b[0m \u001b[1m96s\u001b[0m 4ms/step - loss: 1.6627e-04 - val_loss: 1.6011e-04\n",
      "Epoch 7/20\n",
      "\u001b[1m21803/21803\u001b[0m \u001b[32m━━━━━━━━━━━━━━━━━━━━\u001b[0m\u001b[37m\u001b[0m \u001b[1m96s\u001b[0m 4ms/step - loss: 1.5838e-04 - val_loss: 1.5673e-04\n",
      "Epoch 8/20\n",
      "\u001b[1m21803/21803\u001b[0m \u001b[32m━━━━━━━━━━━━━━━━━━━━\u001b[0m\u001b[37m\u001b[0m \u001b[1m101s\u001b[0m 5ms/step - loss: 1.6072e-04 - val_loss: 1.6674e-04\n",
      "Epoch 9/20\n",
      "\u001b[1m21803/21803\u001b[0m \u001b[32m━━━━━━━━━━━━━━━━━━━━\u001b[0m\u001b[37m\u001b[0m \u001b[1m95s\u001b[0m 4ms/step - loss: 1.5421e-04 - val_loss: 1.6003e-04\n",
      "Epoch 10/20\n",
      "\u001b[1m21803/21803\u001b[0m \u001b[32m━━━━━━━━━━━━━━━━━━━━\u001b[0m\u001b[37m\u001b[0m \u001b[1m93s\u001b[0m 4ms/step - loss: 1.5923e-04 - val_loss: 1.4634e-04\n",
      "Epoch 11/20\n",
      "\u001b[1m21803/21803\u001b[0m \u001b[32m━━━━━━━━━━━━━━━━━━━━\u001b[0m\u001b[37m\u001b[0m \u001b[1m94s\u001b[0m 4ms/step - loss: 1.5303e-04 - val_loss: 1.5425e-04\n",
      "Epoch 12/20\n",
      "\u001b[1m21803/21803\u001b[0m \u001b[32m━━━━━━━━━━━━━━━━━━━━\u001b[0m\u001b[37m\u001b[0m \u001b[1m97s\u001b[0m 4ms/step - loss: 1.5139e-04 - val_loss: 1.4454e-04\n",
      "Epoch 13/20\n",
      "\u001b[1m21803/21803\u001b[0m \u001b[32m━━━━━━━━━━━━━━━━━━━━\u001b[0m\u001b[37m\u001b[0m \u001b[1m93s\u001b[0m 4ms/step - loss: 1.5277e-04 - val_loss: 1.3932e-04\n",
      "Epoch 14/20\n",
      "\u001b[1m21803/21803\u001b[0m \u001b[32m━━━━━━━━━━━━━━━━━━━━\u001b[0m\u001b[37m\u001b[0m \u001b[1m95s\u001b[0m 4ms/step - loss: 1.5014e-04 - val_loss: 1.7630e-04\n",
      "Epoch 15/20\n",
      "\u001b[1m21803/21803\u001b[0m \u001b[32m━━━━━━━━━━━━━━━━━━━━\u001b[0m\u001b[37m\u001b[0m \u001b[1m109s\u001b[0m 5ms/step - loss: 1.5032e-04 - val_loss: 1.5215e-04\n",
      "Epoch 16/20\n",
      "\u001b[1m21803/21803\u001b[0m \u001b[32m━━━━━━━━━━━━━━━━━━━━\u001b[0m\u001b[37m\u001b[0m \u001b[1m96s\u001b[0m 4ms/step - loss: 1.4689e-04 - val_loss: 1.6255e-04\n",
      "Epoch 17/20\n",
      "\u001b[1m21803/21803\u001b[0m \u001b[32m━━━━━━━━━━━━━━━━━━━━\u001b[0m\u001b[37m\u001b[0m \u001b[1m93s\u001b[0m 4ms/step - loss: 1.4986e-04 - val_loss: 1.4004e-04\n",
      "Epoch 18/20\n",
      "\u001b[1m21803/21803\u001b[0m \u001b[32m━━━━━━━━━━━━━━━━━━━━\u001b[0m\u001b[37m\u001b[0m \u001b[1m97s\u001b[0m 4ms/step - loss: 1.4642e-04 - val_loss: 1.5620e-04\n",
      "Epoch 19/20\n",
      "\u001b[1m21803/21803\u001b[0m \u001b[32m━━━━━━━━━━━━━━━━━━━━\u001b[0m\u001b[37m\u001b[0m \u001b[1m97s\u001b[0m 4ms/step - loss: 1.4432e-04 - val_loss: 1.4486e-04\n",
      "Epoch 20/20\n",
      "\u001b[1m21803/21803\u001b[0m \u001b[32m━━━━━━━━━━━━━━━━━━━━\u001b[0m\u001b[37m\u001b[0m \u001b[1m95s\u001b[0m 4ms/step - loss: 1.4540e-04 - val_loss: 1.5012e-04\n",
      "\u001b[1m5451/5451\u001b[0m \u001b[32m━━━━━━━━━━━━━━━━━━━━\u001b[0m\u001b[37m\u001b[0m \u001b[1m8s\u001b[0m 1ms/step - loss: 1.5276e-04\n"
     ]
    },
    {
     "name": "stderr",
     "output_type": "stream",
     "text": [
      "WARNING:absl:You are saving your model as an HDF5 file via `model.save()` or `keras.saving.save_model(model)`. This file format is considered legacy. We recommend using instead the native Keras format, e.g. `model.save('my_model.keras')` or `keras.saving.save_model(model, 'my_model.keras')`. \n"
     ]
    }
   ],
   "source": [
    "with mlflow.start_run():\n",
    "    # Define the model\n",
    "    model = Sequential([\n",
    "        Dense(units=256, input_dim=25, activation='relu'), #input_dim depends on X.shape\n",
    "        Reshape((1, 256)),\n",
    "        GRU(units=128, activation='sigmoid'),\n",
    "        Reshape((1, 128)),\n",
    "        GRU(units=64, activation='tanh'),\n",
    "        Reshape((1, 64)),\n",
    "        SimpleRNN(units=32, activation='relu'),\n",
    "        Reshape((1, 32)),\n",
    "        SimpleRNN(units=16, activation='sigmoid'),\n",
    "        Dense(units=2) # number of units of the last layer should be equal to the number of columns in y(the target variable)\n",
    "    ])\n",
    "\n",
    "    # Compile the model\n",
    "    model.compile(optimizer='adam', loss='mean_squared_error')\n",
    "    \n",
    "    # Define early stopping callback\n",
    "    early_stopping = EarlyStopping(monitor='val_loss', patience=3, restore_best_weights=True)\n",
    "\n",
    "    # Log parameters\n",
    "    mlflow.log_param(\"model\", \"Sequential\")\n",
    "    mlflow.log_param(\"layer0\", \"Dense\")\n",
    "    mlflow.log_param(\"num_units0\", 256)\n",
    "    mlflow.log_param(\"activation0\", \"relu\")\n",
    "    mlflow.log_param(\"layer1\", \"Reshape\")\n",
    "    mlflow.log_param(\"target_shape1\", \"(1, 256)\")\n",
    "    mlflow.log_param(\"layer2\", \"GRU\")\n",
    "    mlflow.log_param(\"num_units2\", 128)\n",
    "    mlflow.log_param(\"activation2\", \"sigmoid\")\n",
    "    mlflow.log_param(\"layer3\", \"Reshape\")\n",
    "    mlflow.log_param(\"target_shape3\", \"(1, 128)\")\n",
    "    mlflow.log_param(\"layer4\", \"GRU\")\n",
    "    mlflow.log_param(\"num_units4\", 64)\n",
    "    mlflow.log_param(\"activation4\", \"tanh\")\n",
    "    mlflow.log_param(\"layer5\", \"Reshape\")\n",
    "    mlflow.log_param(\"target_shape5\", \"(1, 64)\")\n",
    "    mlflow.log_param(\"layer6\", \"SimpleRNN\")\n",
    "    mlflow.log_param(\"num_units6\", 32)\n",
    "    mlflow.log_param(\"activation6\", \"relu\")\n",
    "    mlflow.log_param(\"layer7\", \"Reshape\")\n",
    "    mlflow.log_param(\"target_shape7\", \"(1, 32)\")\n",
    "    mlflow.log_param(\"layer8\", \"SimpleRNN\")\n",
    "    mlflow.log_param(\"num_units8\", 16)\n",
    "    mlflow.log_param(\"activation8\", \"sigmoid\")\n",
    "    mlflow.log_param(\"layer9\", \"Dense\")\n",
    "    mlflow.log_param(\"num_units9\", 2)\n",
    "    mlflow.log_param(\"num_layers\", 10)\n",
    "    # Train the model\n",
    "    history = model.fit(X_train, y_train, epochs=20, batch_size=32, validation_data=(X_test, y_test))\n",
    "    \n",
    "    # Make predictions\n",
    "    #predictions = model.predict(X_test)\n",
    "    #predictions = scaler.inverse_transform(predictions)\n",
    "    #rmse = np.sqrt(mean_squared_error(y_test, predictions))\n",
    "    \n",
    "    # Log metrics\n",
    "    mlflow.log_metric(\"train_loss\", history.history['loss'][-1])\n",
    "    mlflow.log_metric(\"val_loss\", history.history['val_loss'][-1])\n",
    "\n",
    "    # Evaluate the model\n",
    "    loss = model.evaluate(X_test, y_test)\n",
    "    mlflow.log_metric(\"test_loss\", loss)\n",
    "\n",
    "    # Save the model\n",
    "    model.save(\"gru.h5\")\n",
    "    mlflow.log_artifact(\"gru.h5\")\n",
    "\n",
    "    # End MLflow run\n",
    "    mlflow.end_run()"
   ]
  },
  {
   "cell_type": "markdown",
   "metadata": {},
   "source": [
    "Now we plot the Loss function"
   ]
  },
  {
   "cell_type": "code",
   "execution_count": 21,
   "metadata": {},
   "outputs": [
    {
     "data": {
      "text/plain": [
       "<matplotlib.legend.Legend at 0x7f5cbc149750>"
      ]
     },
     "execution_count": 21,
     "metadata": {},
     "output_type": "execute_result"
    },
    {
     "data": {
      "image/png": "[encoded data removed]",
      "text/plain": [
       "<Figure size 1200x500 with 1 Axes>"
      ]
     },
     "metadata": {},
     "output_type": "display_data"
    }
   ],
   "source": [
    "plt.figure(figsize=(12,5))\n",
    "plt.subplot(1, 2, 1)\n",
    "plt.plot(history.history['loss'], label='Training loss')\n",
    "plt.plot(history.history['val_loss'], label='Validation loss ')\n",
    "plt.title('Model loss')\n",
    "plt.xlabel('Epoch')\n",
    "plt.ylabel('Loss')\n",
    "plt.legend()"
   ]
  },
  {
   "cell_type": "code",
   "execution_count": 7,
   "metadata": {},
   "outputs": [
    {
     "ename": "TypeError",
     "evalue": "Ticker.__init__() missing 1 required positional argument: 'ticker'",
     "output_type": "error",
     "traceback": [
      "\u001b[0;31m---------------------------------------------------------------------------\u001b[0m",
      "\u001b[0;31mTypeError\u001b[0m                                 Traceback (most recent call last)",
      "Cell \u001b[0;32mIn[7], line 5\u001b[0m\n\u001b[1;32m      2\u001b[0m \u001b[38;5;28;01mimport\u001b[39;00m \u001b[38;5;21;01mpandas\u001b[39;00m \u001b[38;5;28;01mas\u001b[39;00m \u001b[38;5;21;01mpd\u001b[39;00m\n\u001b[1;32m      3\u001b[0m \u001b[38;5;28;01mfrom\u001b[39;00m \u001b[38;5;21;01msklearn\u001b[39;00m\u001b[38;5;21;01m.\u001b[39;00m\u001b[38;5;21;01mlinear_model\u001b[39;00m \u001b[38;5;28;01mimport\u001b[39;00m LinearRegression\n\u001b[0;32m----> 5\u001b[0m ticks \u001b[38;5;241m=\u001b[39m \u001b[43myf\u001b[49m\u001b[38;5;241;43m.\u001b[39;49m\u001b[43mTicker\u001b[49m\u001b[43m(\u001b[49m\u001b[43m)\u001b[49m\n\u001b[1;32m      6\u001b[0m \u001b[38;5;28mprint\u001b[39m(ticks\u001b[38;5;241m.\u001b[39minfo)\n",
      "\u001b[0;31mTypeError\u001b[0m: Ticker.__init__() missing 1 required positional argument: 'ticker'"
     ]
    }
   ],
   "source": [
    "import yfinance as yf\n",
    "import pandas as pd\n",
    "from sklearn.linear_model import LinearRegression\n",
    "\n"
   ]
  }
 ],
 "metadata": {
  "kernelspec": {
   "display_name": "ISS",
   "language": "python",
   "name": "python3"
  },
  "language_info": {
   "codemirror_mode": {
    "name": "ipython",
    "version": 3
   },
   "file_extension": ".py",
   "mimetype": "text/x-python",
   "name": "python",
   "nbconvert_exporter": "python",
   "pygments_lexer": "ipython3",
   "version": "3.11.7"
  }
 },
 "nbformat": 4,
 "nbformat_minor": 2
}
