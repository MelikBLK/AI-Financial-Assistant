{
 "cells": [
  {
   "cell_type": "markdown",
   "metadata": {},
   "source": [
    "All Imports"
   ]
  },
  {
   "cell_type": "code",
   "execution_count": 1,
   "metadata": {},
   "outputs": [
    {
     "name": "stderr",
     "output_type": "stream",
     "text": [
      "2024-04-19 12:32:02.821290: I tensorflow/core/platform/cpu_feature_guard.cc:210] This TensorFlow binary is optimized to use available CPU instructions in performance-critical operations.\n",
      "To enable the following instructions: AVX2 FMA, in other operations, rebuild TensorFlow with the appropriate compiler flags.\n",
      "2024-04-19 12:32:03.523395: W tensorflow/compiler/tf2tensorrt/utils/py_utils.cc:38] TF-TRT Warning: Could not find TensorRT\n"
     ]
    }
   ],
   "source": [
    "import yfinance as yf\n",
    "import pandas as pd\n",
    "import numpy as np\n",
    "from sklearn.preprocessing import MinMaxScaler\n",
    "from sklearn.model_selection import train_test_split\n",
    "from sklearn.metrics import mean_squared_error\n",
    "from tensorflow.keras.models import Sequential\n",
    "import tensorflow.keras.models as models\n",
    "from tensorflow.keras.layers import Dense, SimpleRNN, LSTM, GRU, Bidirectional, Reshape\n",
    "import matplotlib.pyplot as plt\n",
    "import mlflow"
   ]
  },
  {
   "cell_type": "markdown",
   "metadata": {},
   "source": [
    "Load both CSV files into pandas dataframes"
   ]
  },
  {
   "cell_type": "code",
   "execution_count": 2,
   "metadata": {},
   "outputs": [
    {
     "name": "stderr",
     "output_type": "stream",
     "text": [
      "C:\\Users\\benal\\AppData\\Local\\Temp\\ipykernel_20452\\3057472841.py:1: DtypeWarning: Columns (8,9,10,11,12,15,17,18,20,21,23,24,25,26,27,28) have mixed types. Specify dtype option on import or set low_memory=False.\n",
      "  df1 = pd.read_csv('aapl_2016_2020.csv')\n",
      "C:\\Users\\benal\\AppData\\Local\\Temp\\ipykernel_20452\\3057472841.py:2: DtypeWarning: Columns (15,17,18,20,21,23) have mixed types. Specify dtype option on import or set low_memory=False.\n",
      "  df2 = pd.read_csv('aapl_2021_2023.csv')\n"
     ]
    }
   ],
   "source": [
    "df1 = pd.read_csv('aapl_2016_2020.csv')\n",
    "df2 = pd.read_csv('aapl_2021_2023.csv')"
   ]
  },
  {
   "cell_type": "markdown",
   "metadata": {},
   "source": [
    "Concatenate the dataframes along rows (assuming they have the same columns)"
   ]
  },
  {
   "cell_type": "code",
   "execution_count": 3,
   "metadata": {},
   "outputs": [],
   "source": [
    "raw_df = pd.concat([df1, df2], ignore_index=True)"
   ]
  },
  {
   "cell_type": "markdown",
   "metadata": {},
   "source": [
    "Save the merged dataframe to a new CSV file"
   ]
  },
  {
   "cell_type": "code",
   "execution_count": 4,
   "metadata": {},
   "outputs": [],
   "source": [
    "raw_df.to_csv('merged.csv', index=False)"
   ]
  },
  {
   "cell_type": "code",
   "execution_count": 2,
   "metadata": {},
   "outputs": [
    {
     "name": "stderr",
     "output_type": "stream",
     "text": [
      "/tmp/ipykernel_4757/596435398.py:1: DtypeWarning: Columns (8,9,10,11,12,15,17,18,20,21,23,24,25,26,27,28) have mixed types. Specify dtype option on import or set low_memory=False.\n",
      "  raw_df = pd.read_csv('merged.csv')\n"
     ]
    }
   ],
   "source": [
    "raw_df = pd.read_csv('merged.csv')"
   ]
  },
  {
   "cell_type": "markdown",
   "metadata": {},
   "source": [
    "Get rid of [ ] in the column name"
   ]
  },
  {
   "cell_type": "code",
   "execution_count": 5,
   "metadata": {},
   "outputs": [],
   "source": [
    "columns = raw_df.columns\n",
    "columns = [s.replace('[', '') for s in columns]\n",
    "columns = [s.replace(']', '') for s in columns]\n",
    "columns = [s.replace(' ', '') for s in columns]\n",
    "\n",
    "raw_df.columns = columns"
   ]
  },
  {
   "cell_type": "markdown",
   "metadata": {},
   "source": [
    "Some columns will not be handled well when converting raw numeric strings to Python's integer and float datatypes. \n",
    "\n",
    "Therefore, we will treat these features separately and join them again later."
   ]
  },
  {
   "cell_type": "code",
   "execution_count": 6,
   "metadata": {},
   "outputs": [
    {
     "data": {
      "text/plain": [
       "['QUOTE_UNIXTIME',\n",
       " 'UNDERLYING_LAST',\n",
       " 'EXPIRE_UNIX',\n",
       " 'DTE',\n",
       " 'C_DELTA',\n",
       " 'C_GAMMA',\n",
       " 'C_VEGA',\n",
       " 'C_THETA',\n",
       " 'C_RHO',\n",
       " 'C_IV',\n",
       " 'C_VOLUME',\n",
       " 'C_LAST',\n",
       " 'C_BID',\n",
       " 'C_ASK',\n",
       " 'STRIKE',\n",
       " 'P_BID',\n",
       " 'P_ASK',\n",
       " 'P_LAST',\n",
       " 'P_DELTA',\n",
       " 'P_GAMMA',\n",
       " 'P_VEGA',\n",
       " 'P_THETA',\n",
       " 'P_RHO',\n",
       " 'P_IV',\n",
       " 'P_VOLUME',\n",
       " 'STRIKE_DISTANCE',\n",
       " 'STRIKE_DISTANCE_PCT']"
      ]
     },
     "execution_count": 6,
     "metadata": {},
     "output_type": "execute_result"
    }
   ],
   "source": [
    "date_columns = ['QUOTE_READTIME','QUOTE_DATE','EXPIRE_DATE','QUOTE_TIME_HOURS', 'C_SIZE', 'P_SIZE']\n",
    "numeric_cols = raw_df.columns.to_list()\n",
    "numeric_cols.remove('QUOTE_READTIME')\n",
    "numeric_cols.remove('QUOTE_DATE')\n",
    "numeric_cols.remove('EXPIRE_DATE')\n",
    "numeric_cols.remove('QUOTE_TIME_HOURS')\n",
    "numeric_cols.remove('C_SIZE')\n",
    "numeric_cols.remove('P_SIZE')\n",
    "\n",
    "numeric_cols"
   ]
  },
  {
   "cell_type": "code",
   "execution_count": 7,
   "metadata": {},
   "outputs": [],
   "source": [
    "numeric_df = raw_df.drop(columns=date_columns)\n",
    "\n",
    "for i in numeric_cols:\n",
    "    numeric_df[i] = pd.to_numeric(numeric_df[i], errors='coerce')"
   ]
  },
  {
   "cell_type": "markdown",
   "metadata": {},
   "source": [
    "Now we drop all rows that contains an element that is NaN"
   ]
  },
  {
   "cell_type": "code",
   "execution_count": 8,
   "metadata": {},
   "outputs": [],
   "source": [
    "numeric_df = numeric_df.dropna()"
   ]
  },
  {
   "cell_type": "markdown",
   "metadata": {},
   "source": [
    "Choosing our Features X and Target Y"
   ]
  },
  {
   "cell_type": "code",
   "execution_count": 9,
   "metadata": {},
   "outputs": [],
   "source": [
    "X = numeric_df.drop(columns=['P_LAST', 'C_LAST'])\n",
    "y = numeric_df[['P_LAST', 'C_LAST']]"
   ]
  },
  {
   "cell_type": "markdown",
   "metadata": {},
   "source": [
    "Scale transform the data"
   ]
  },
  {
   "cell_type": "code",
   "execution_count": 10,
   "metadata": {},
   "outputs": [],
   "source": [
    "scaler = MinMaxScaler(feature_range=(0.1, 1))\n",
    "X, y = scaler.fit_transform(X), scaler.fit_transform(y)"
   ]
  },
  {
   "cell_type": "markdown",
   "metadata": {},
   "source": [
    "Convert them into matrices"
   ]
  },
  {
   "cell_type": "code",
   "execution_count": 11,
   "metadata": {},
   "outputs": [],
   "source": [
    "X, y = np.array(X), np.array(y)"
   ]
  },
  {
   "cell_type": "markdown",
   "metadata": {},
   "source": [
    "Check Dimensions of the features and targets"
   ]
  },
  {
   "cell_type": "code",
   "execution_count": 12,
   "metadata": {},
   "outputs": [
    {
     "name": "stdout",
     "output_type": "stream",
     "text": [
      "(872082, 25) (872082, 2)\n"
     ]
    }
   ],
   "source": [
    "print(X.shape, y.shape)"
   ]
  },
  {
   "cell_type": "markdown",
   "metadata": {},
   "source": [
    "Split data into train and test (80%:20%)"
   ]
  },
  {
   "cell_type": "code",
   "execution_count": 13,
   "metadata": {},
   "outputs": [],
   "source": [
    "X_train, X_test, y_train, y_test = train_test_split(X, y, test_size=0.2, random_state=2)"
   ]
  },
  {
   "cell_type": "markdown",
   "metadata": {},
   "source": [
    "Start our MLflow run"
   ]
  },
  {
   "cell_type": "code",
   "execution_count": 14,
   "metadata": {},
   "outputs": [
    {
     "name": "stderr",
     "output_type": "stream",
     "text": [
      "2024/04/18 00:03:48 INFO mlflow.tracking.fluent: Experiment with name 'options_prediction1' does not exist. Creating a new experiment.\n"
     ]
    },
    {
     "data": {
      "text/plain": [
       "<Experiment: artifact_location='file:///c:/Users/benal/AI-Financial-Assistant/mlruns/310814173313511215', creation_time=1713395028546, experiment_id='310814173313511215', last_update_time=1713395028546, lifecycle_stage='active', name='options_prediction1', tags={}>"
      ]
     },
     "execution_count": 14,
     "metadata": {},
     "output_type": "execute_result"
    }
   ],
   "source": [
    "mlflow.set_experiment(\"options_prediction1\")"
   ]
  },
  {
   "cell_type": "markdown",
   "metadata": {},
   "source": [
    "Build our model and run it with MLflow"
   ]
  },
  {
   "cell_type": "code",
   "execution_count": 17,
   "metadata": {},
   "outputs": [
    {
     "name": "stdout",
     "output_type": "stream",
     "text": [
      "Epoch 1/20\n",
      "\u001b[1m21803/21803\u001b[0m \u001b[32m━━━━━━━━━━━━━━━━━━━━\u001b[0m\u001b[37m\u001b[0m \u001b[1m37s\u001b[0m 2ms/step - loss: 0.0013 - val_loss: 1.7801e-04\n",
      "Epoch 2/20\n",
      "\u001b[1m21803/21803\u001b[0m \u001b[32m━━━━━━━━━━━━━━━━━━━━\u001b[0m\u001b[37m\u001b[0m \u001b[1m33s\u001b[0m 2ms/step - loss: 1.8291e-04 - val_loss: 1.9213e-04\n",
      "Epoch 3/20\n",
      "\u001b[1m21803/21803\u001b[0m \u001b[32m━━━━━━━━━━━━━━━━━━━━\u001b[0m\u001b[37m\u001b[0m \u001b[1m36s\u001b[0m 2ms/step - loss: 1.7431e-04 - val_loss: 2.1600e-04\n",
      "Epoch 4/20\n",
      "\u001b[1m21803/21803\u001b[0m \u001b[32m━━━━━━━━━━━━━━━━━━━━\u001b[0m\u001b[37m\u001b[0m \u001b[1m35s\u001b[0m 2ms/step - loss: 1.7077e-04 - val_loss: 1.7426e-04\n",
      "Epoch 5/20\n",
      "\u001b[1m21803/21803\u001b[0m \u001b[32m━━━━━━━━━━━━━━━━━━━━\u001b[0m\u001b[37m\u001b[0m \u001b[1m40s\u001b[0m 2ms/step - loss: 1.6565e-04 - val_loss: 1.7969e-04\n",
      "Epoch 6/20\n",
      "\u001b[1m21803/21803\u001b[0m \u001b[32m━━━━━━━━━━━━━━━━━━━━\u001b[0m\u001b[37m\u001b[0m \u001b[1m39s\u001b[0m 2ms/step - loss: 1.6329e-04 - val_loss: 1.6401e-04\n",
      "Epoch 7/20\n",
      "\u001b[1m21803/21803\u001b[0m \u001b[32m━━━━━━━━━━━━━━━━━━━━\u001b[0m\u001b[37m\u001b[0m \u001b[1m40s\u001b[0m 2ms/step - loss: 1.6305e-04 - val_loss: 1.4811e-04\n",
      "Epoch 8/20\n",
      "\u001b[1m21803/21803\u001b[0m \u001b[32m━━━━━━━━━━━━━━━━━━━━\u001b[0m\u001b[37m\u001b[0m \u001b[1m36s\u001b[0m 2ms/step - loss: 1.5843e-04 - val_loss: 1.5133e-04\n",
      "Epoch 9/20\n",
      "\u001b[1m21803/21803\u001b[0m \u001b[32m━━━━━━━━━━━━━━━━━━━━\u001b[0m\u001b[37m\u001b[0m \u001b[1m40s\u001b[0m 2ms/step - loss: 1.5712e-04 - val_loss: 1.8192e-04\n",
      "Epoch 10/20\n",
      "\u001b[1m21803/21803\u001b[0m \u001b[32m━━━━━━━━━━━━━━━━━━━━\u001b[0m\u001b[37m\u001b[0m \u001b[1m40s\u001b[0m 2ms/step - loss: 1.5444e-04 - val_loss: 1.5054e-04\n",
      "Epoch 11/20\n",
      "\u001b[1m21803/21803\u001b[0m \u001b[32m━━━━━━━━━━━━━━━━━━━━\u001b[0m\u001b[37m\u001b[0m \u001b[1m41s\u001b[0m 2ms/step - loss: 1.5258e-04 - val_loss: 1.5134e-04\n",
      "Epoch 12/20\n",
      "\u001b[1m21803/21803\u001b[0m \u001b[32m━━━━━━━━━━━━━━━━━━━━\u001b[0m\u001b[37m\u001b[0m \u001b[1m35s\u001b[0m 2ms/step - loss: 1.5356e-04 - val_loss: 1.5542e-04\n",
      "Epoch 13/20\n",
      "\u001b[1m21803/21803\u001b[0m \u001b[32m━━━━━━━━━━━━━━━━━━━━\u001b[0m\u001b[37m\u001b[0m \u001b[1m34s\u001b[0m 2ms/step - loss: 1.5018e-04 - val_loss: 1.6529e-04\n",
      "Epoch 14/20\n",
      "\u001b[1m21803/21803\u001b[0m \u001b[32m━━━━━━━━━━━━━━━━━━━━\u001b[0m\u001b[37m\u001b[0m \u001b[1m32s\u001b[0m 1ms/step - loss: 1.4726e-04 - val_loss: 1.5412e-04\n",
      "Epoch 15/20\n",
      "\u001b[1m21803/21803\u001b[0m \u001b[32m━━━━━━━━━━━━━━━━━━━━\u001b[0m\u001b[37m\u001b[0m \u001b[1m32s\u001b[0m 1ms/step - loss: 1.4834e-04 - val_loss: 1.4811e-04\n",
      "Epoch 16/20\n",
      "\u001b[1m21803/21803\u001b[0m \u001b[32m━━━━━━━━━━━━━━━━━━━━\u001b[0m\u001b[37m\u001b[0m \u001b[1m39s\u001b[0m 2ms/step - loss: 1.4839e-04 - val_loss: 1.3937e-04\n",
      "Epoch 17/20\n",
      "\u001b[1m21803/21803\u001b[0m \u001b[32m━━━━━━━━━━━━━━━━━━━━\u001b[0m\u001b[37m\u001b[0m \u001b[1m38s\u001b[0m 2ms/step - loss: 1.4629e-04 - val_loss: 1.5497e-04\n",
      "Epoch 18/20\n",
      "\u001b[1m21803/21803\u001b[0m \u001b[32m━━━━━━━━━━━━━━━━━━━━\u001b[0m\u001b[37m\u001b[0m \u001b[1m34s\u001b[0m 2ms/step - loss: 1.4848e-04 - val_loss: 1.5526e-04\n",
      "Epoch 19/20\n",
      "\u001b[1m21803/21803\u001b[0m \u001b[32m━━━━━━━━━━━━━━━━━━━━\u001b[0m\u001b[37m\u001b[0m \u001b[1m33s\u001b[0m 1ms/step - loss: 1.4457e-04 - val_loss: 1.9138e-04\n",
      "Epoch 20/20\n",
      "\u001b[1m21803/21803\u001b[0m \u001b[32m━━━━━━━━━━━━━━━━━━━━\u001b[0m\u001b[37m\u001b[0m \u001b[1m32s\u001b[0m 1ms/step - loss: 1.4356e-04 - val_loss: 1.4587e-04\n",
      "\u001b[1m5451/5451\u001b[0m \u001b[32m━━━━━━━━━━━━━━━━━━━━\u001b[0m\u001b[37m\u001b[0m \u001b[1m4s\u001b[0m 689us/step - loss: 1.4795e-04\n"
     ]
    },
    {
     "name": "stderr",
     "output_type": "stream",
     "text": [
      "WARNING:absl:You are saving your model as an HDF5 file via `model.save()` or `keras.saving.save_model(model)`. This file format is considered legacy. We recommend using instead the native Keras format, e.g. `model.save('my_model.keras')` or `keras.saving.save_model(model, 'my_model.keras')`. \n"
     ]
    }
   ],
   "source": [
    "with mlflow.start_run():\n",
    "    model = Sequential([\n",
    "        Dense(units=256, input_dim=X_train.shape[1], activation='relu'),\n",
    "        Reshape((1, 256)),\n",
    "        Bidirectional(SimpleRNN(units=128, activation='sigmoid', return_sequences=False)),\n",
    "        Dense(units=64, activation='tanh'),\n",
    "        Reshape((1, 64)),\n",
    "        Bidirectional(SimpleRNN(units=32, activation='relu', return_sequences=True)),\n",
    "        SimpleRNN(units=16, activation='sigmoid', return_sequences=False),\n",
    "        Dense(units=2)\n",
    "    ])\n",
    "\n",
    "    model.compile(optimizer='adam', loss='mean_squared_error')\n",
    "\n",
    "    # Log model configuration with MLflow\n",
    "    mlflow.log_param(\"model\", \"Bidirectional_RNN\")\n",
    "    mlflow.log_param(\"rnn_layers\", 2)\n",
    "    mlflow.log_param(\"dense_layers\", 2)\n",
    "    mlflow.log_param(\"batch_size\", 32)\n",
    "    mlflow.log_param(\"epochs\", 20)\n",
    "    mlflow.log_param(\"optimizer\", \"adam\")\n",
    "\n",
    "    # Train the model\n",
    "    history = model.fit(X_train, y_train, epochs=20, batch_size=32, validation_data=(X_test, y_test))\n",
    "\n",
    "    # Evaluate and log metrics\n",
    "    train_loss = history.history['loss'][-1]\n",
    "    val_loss = history.history['val_loss'][-1]\n",
    "    test_loss = model.evaluate(X_test, y_test)\n",
    "\n",
    "    mlflow.log_metric(\"train_loss\", train_loss)\n",
    "    mlflow.log_metric(\"val_loss\", val_loss)\n",
    "    mlflow.log_metric(\"test_loss\", test_loss)\n",
    "\n",
    "    # Save the model\n",
    "    model_path = \"bidirectional_rnn_model.h5\"\n",
    "    model.save(model_path)\n",
    "    mlflow.log_artifact(model_path)\n",
    "\n",
    "    mlflow.end_run()\n"
   ]
  },
  {
   "cell_type": "markdown",
   "metadata": {},
   "source": [
    "Now we plot the Loss function"
   ]
  },
  {
   "cell_type": "code",
   "execution_count": 18,
   "metadata": {},
   "outputs": [
    {
     "data": {
      "text/plain": [
       "<matplotlib.legend.Legend at 0x24fa43dd550>"
      ]
     },
     "execution_count": 18,
     "metadata": {},
     "output_type": "execute_result"
    },
    {
     "data": {
      "image/png": "[encoded data removed]",
      "text/plain": [
       "<Figure size 1200x500 with 1 Axes>"
      ]
     },
     "metadata": {},
     "output_type": "display_data"
    }
   ],
   "source": [
    "plt.figure(figsize=(12,5))\n",
    "plt.subplot(1, 2, 1)\n",
    "plt.plot(history.history['loss'], label='Training loss')\n",
    "plt.plot(history.history['val_loss'], label='Validation loss ')\n",
    "plt.title('Model loss')\n",
    "plt.xlabel('Epoch')\n",
    "plt.ylabel('Loss')\n",
    "plt.legend()"
   ]
  }
 ],
 "metadata": {
  "kernelspec": {
   "display_name": "ISS",
   "language": "python",
   "name": "python3"
  },
  "language_info": {
   "codemirror_mode": {
    "name": "ipython",
    "version": 3
   },
   "file_extension": ".py",
   "mimetype": "text/x-python",
   "name": "python",
   "nbconvert_exporter": "python",
   "pygments_lexer": "ipython3",
   "version": "3.11.7"
  }
 },
 "nbformat": 4,
 "nbformat_minor": 2
}
